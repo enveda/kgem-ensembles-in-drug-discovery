{
 "cells": [
  {
   "cell_type": "markdown",
   "id": "improving-richmond",
   "metadata": {
    "pycharm": {
     "name": "#%% md\n"
    }
   },
   "source": [
    "# <center>Data Splitting</center>\n",
    "\n",
    "This notebook contains the code to filter, pre-process, and normalize the raw benchmark data sets for training knowledge graph embedding models (KGEMs). It results in the generation of training, testing and validation datasets."
   ]
  },
  {
   "cell_type": "markdown",
   "id": "periodic-covering",
   "metadata": {
    "pycharm": {
     "name": "#%% md\n"
    }
   },
   "source": [
    "## System configurations"
   ]
  },
  {
   "cell_type": "code",
   "execution_count": 1,
   "id": "preliminary-adventure",
   "metadata": {
    "pycharm": {
     "name": "#%%\n"
    }
   },
   "outputs": [],
   "source": [
    "import getpass\n",
    "import sys\n",
    "import time\n",
    "sys.path.insert(0, '..')"
   ]
  },
  {
   "cell_type": "code",
   "execution_count": 2,
   "id": "aging-jimmy",
   "metadata": {
    "pycharm": {
     "name": "#%%\n"
    }
   },
   "outputs": [
    {
     "data": {
      "text/plain": [
       "'yojana'"
      ]
     },
     "execution_count": 2,
     "metadata": {},
     "output_type": "execute_result"
    }
   ],
   "source": [
    "getpass.getuser()"
   ]
  },
  {
   "cell_type": "code",
   "execution_count": 3,
   "id": "spiritual-africa",
   "metadata": {
    "pycharm": {
     "name": "#%%\n"
    }
   },
   "outputs": [
    {
     "data": {
      "text/plain": [
       "'3.8.13 (default, Mar 28 2022, 06:16:26) \\n[Clang 12.0.0 ]'"
      ]
     },
     "execution_count": 3,
     "metadata": {},
     "output_type": "execute_result"
    }
   ],
   "source": [
    "sys.version"
   ]
  },
  {
   "cell_type": "code",
   "execution_count": 4,
   "id": "seasonal-evanescence",
   "metadata": {
    "pycharm": {
     "name": "#%%\n"
    }
   },
   "outputs": [
    {
     "data": {
      "text/plain": [
       "'Wed Sep 14 09:47:42 2022'"
      ]
     },
     "execution_count": 4,
     "metadata": {},
     "output_type": "execute_result"
    }
   ],
   "source": [
    "time.asctime()"
   ]
  },
  {
   "cell_type": "markdown",
   "id": "taken-drawing",
   "metadata": {
    "pycharm": {
     "name": "#%% md\n"
    }
   },
   "source": [
    "## Import modules"
   ]
  },
  {
   "cell_type": "code",
   "execution_count": 5,
   "id": "quality-brazilian",
   "metadata": {
    "pycharm": {
     "name": "#%%\n"
    }
   },
   "outputs": [],
   "source": [
    "import os\n",
    "import logging\n",
    "import pandas as pd\n",
    "from tqdm import tqdm\n",
    "\n",
    "# Graph creation\n",
    "from src.utils import create_graph_from_df\n",
    "import networkx as nx\n",
    "\n",
    "# Plotting libraries\n",
    "import matplotlib.pyplot as plt\n",
    "import seaborn as sns \n",
    "\n",
    "# Splitting libraries\n",
    "import numpy as np"
   ]
  },
  {
   "cell_type": "code",
   "execution_count": 6,
   "id": "strange-dress",
   "metadata": {
    "pycharm": {
     "name": "#%%\n"
    }
   },
   "outputs": [],
   "source": [
    "logger = logging.getLogger('__name__')"
   ]
  },
  {
   "cell_type": "code",
   "execution_count": 7,
   "id": "broad-benjamin",
   "metadata": {
    "pycharm": {
     "name": "#%%\n"
    }
   },
   "outputs": [],
   "source": [
    "# Make directories to store the data\n",
    "os.makedirs('../data/plots', exist_ok=True)\n",
    "os.makedirs('../data/kg', exist_ok=True)"
   ]
  },
  {
   "cell_type": "markdown",
   "id": "round-cookie",
   "metadata": {
    "pycharm": {
     "name": "#%% md\n"
    }
   },
   "source": [
    "## Network loading\n",
    "\n",
    "We make use of two benchmark datasets for our use case:\n",
    "- OpenBioLink : Drug-Gene, Gene-Gene, Gene-Disease\n",
    "- BioKG: Drug-Gene, Drug-Carries, Drug-enzyme, Drug-transporter, Gene-Disease, Drug-Disease, Gene-Pathway, Pathways-Disease, Complex-Pathway, Gene-Gene\n",
    "\n",
    "OpenBioLink has relations encoded in form of polarity (-1 and 1). Thus, we need to convert them to activates and inhibits. On the other hand, BioKG has no relationship attribute and thus, we need to add \"associates\" relation the entities in BioKG. \n",
    "\n",
    "Also for the ease of comparison of the two KGs, we identified the following relations to be part of each KG:\n",
    "- Drug-Gene\n",
    "- Gene-Gene\n",
    "- Gene-Disease\n",
    "- Drug-Disease (with \"treats\" relation)"
   ]
  },
  {
   "cell_type": "markdown",
   "id": "traditional-omega",
   "metadata": {
    "pycharm": {
     "name": "#%% md\n"
    }
   },
   "source": [
    "### Load the networks and map the relations"
   ]
  },
  {
   "cell_type": "code",
   "execution_count": 8,
   "id": "varied-fountain",
   "metadata": {
    "pycharm": {
     "name": "#%%\n"
    }
   },
   "outputs": [],
   "source": [
    "relation_map = {'1': 'activates', '-1': 'inhibits'}"
   ]
  },
  {
   "cell_type": "code",
   "execution_count": 9,
   "id": "western-detroit",
   "metadata": {
    "pycharm": {
     "name": "#%%\n"
    }
   },
   "outputs": [
    {
     "data": {
      "text/html": [
       "<div>\n",
       "<style scoped>\n",
       "    .dataframe tbody tr th:only-of-type {\n",
       "        vertical-align: middle;\n",
       "    }\n",
       "\n",
       "    .dataframe tbody tr th {\n",
       "        vertical-align: top;\n",
       "    }\n",
       "\n",
       "    .dataframe thead th {\n",
       "        text-align: right;\n",
       "    }\n",
       "</style>\n",
       "<table border=\"1\" class=\"dataframe\">\n",
       "  <thead>\n",
       "    <tr style=\"text-align: right;\">\n",
       "      <th></th>\n",
       "      <th>source</th>\n",
       "      <th>target</th>\n",
       "      <th>relation</th>\n",
       "    </tr>\n",
       "  </thead>\n",
       "  <tbody>\n",
       "    <tr>\n",
       "      <th>0</th>\n",
       "      <td>PUBCHEM.COMPOUND:1</td>\n",
       "      <td>NCBIGENE:3162</td>\n",
       "      <td>activates</td>\n",
       "    </tr>\n",
       "    <tr>\n",
       "      <th>1</th>\n",
       "      <td>PUBCHEM.COMPOUND:1</td>\n",
       "      <td>NCBIGENE:3308</td>\n",
       "      <td>activates</td>\n",
       "    </tr>\n",
       "    <tr>\n",
       "      <th>2</th>\n",
       "      <td>PUBCHEM.COMPOUND:1</td>\n",
       "      <td>NCBIGENE:4804</td>\n",
       "      <td>activates</td>\n",
       "    </tr>\n",
       "    <tr>\n",
       "      <th>3</th>\n",
       "      <td>PUBCHEM.COMPOUND:1</td>\n",
       "      <td>NCBIGENE:1020</td>\n",
       "      <td>inhibits</td>\n",
       "    </tr>\n",
       "    <tr>\n",
       "      <th>4</th>\n",
       "      <td>PUBCHEM.COMPOUND:1</td>\n",
       "      <td>NCBIGENE:54205</td>\n",
       "      <td>inhibits</td>\n",
       "    </tr>\n",
       "  </tbody>\n",
       "</table>\n",
       "</div>"
      ],
      "text/plain": [
       "               source          target   relation\n",
       "0  PUBCHEM.COMPOUND:1   NCBIGENE:3162  activates\n",
       "1  PUBCHEM.COMPOUND:1   NCBIGENE:3308  activates\n",
       "2  PUBCHEM.COMPOUND:1   NCBIGENE:4804  activates\n",
       "3  PUBCHEM.COMPOUND:1   NCBIGENE:1020   inhibits\n",
       "4  PUBCHEM.COMPOUND:1  NCBIGENE:54205   inhibits"
      ]
     },
     "execution_count": 9,
     "metadata": {},
     "output_type": "execute_result"
    }
   ],
   "source": [
    "openbiolink_df = pd.read_csv(\n",
    "    'https://raw.githubusercontent.com/drug2ways/results/master/networks/data/openbiolink_network.tsv',\n",
    "    sep='\\t',\n",
    "    dtype=str\n",
    ")\n",
    "openbiolink_df['relation'] = openbiolink_df['relation'].map(relation_map)\n",
    "\n",
    "openbiolink_df.head()"
   ]
  },
  {
   "cell_type": "code",
   "execution_count": 10,
   "id": "alleged-noise",
   "metadata": {
    "pycharm": {
     "name": "#%%\n"
    }
   },
   "outputs": [
    {
     "data": {
      "text/html": [
       "<div>\n",
       "<style scoped>\n",
       "    .dataframe tbody tr th:only-of-type {\n",
       "        vertical-align: middle;\n",
       "    }\n",
       "\n",
       "    .dataframe tbody tr th {\n",
       "        vertical-align: top;\n",
       "    }\n",
       "\n",
       "    .dataframe thead th {\n",
       "        text-align: right;\n",
       "    }\n",
       "</style>\n",
       "<table border=\"1\" class=\"dataframe\">\n",
       "  <thead>\n",
       "    <tr style=\"text-align: right;\">\n",
       "      <th></th>\n",
       "      <th>source</th>\n",
       "      <th>target</th>\n",
       "      <th>relation</th>\n",
       "    </tr>\n",
       "  </thead>\n",
       "  <tbody>\n",
       "    <tr>\n",
       "      <th>0</th>\n",
       "      <td>drugbank:DB00907</td>\n",
       "      <td>mesh:D006261</td>\n",
       "      <td>treats</td>\n",
       "    </tr>\n",
       "    <tr>\n",
       "      <th>1</th>\n",
       "      <td>drugbank:DB01050</td>\n",
       "      <td>mesh:D041781</td>\n",
       "      <td>treats</td>\n",
       "    </tr>\n",
       "    <tr>\n",
       "      <th>2</th>\n",
       "      <td>drugbank:DB00697</td>\n",
       "      <td>mesh:D008107</td>\n",
       "      <td>treats</td>\n",
       "    </tr>\n",
       "    <tr>\n",
       "      <th>3</th>\n",
       "      <td>drugbank:DB00916</td>\n",
       "      <td>mesh:D014786</td>\n",
       "      <td>treats</td>\n",
       "    </tr>\n",
       "    <tr>\n",
       "      <th>4</th>\n",
       "      <td>drugbank:DB09225</td>\n",
       "      <td>mesh:D006948</td>\n",
       "      <td>treats</td>\n",
       "    </tr>\n",
       "  </tbody>\n",
       "</table>\n",
       "</div>"
      ],
      "text/plain": [
       "             source        target relation\n",
       "0  drugbank:DB00907  mesh:D006261   treats\n",
       "1  drugbank:DB01050  mesh:D041781   treats\n",
       "2  drugbank:DB00697  mesh:D008107   treats\n",
       "3  drugbank:DB00916  mesh:D014786   treats\n",
       "4  drugbank:DB09225  mesh:D006948   treats"
      ]
     },
     "execution_count": 10,
     "metadata": {},
     "output_type": "execute_result"
    }
   ],
   "source": [
    "biokg = pd.read_csv('../data/network/biokg_processed.tsv', sep='\\t')\n",
    "biokg.head()"
   ]
  },
  {
   "cell_type": "markdown",
   "id": "strategic-citation",
   "metadata": {
    "pycharm": {
     "name": "#%% md\n"
    }
   },
   "source": [
    "## Get list of namespaces in each graph"
   ]
  },
  {
   "cell_type": "code",
   "execution_count": 11,
   "id": "critical-section",
   "metadata": {
    "pycharm": {
     "name": "#%%\n"
    }
   },
   "outputs": [],
   "source": [
    "def get_namespace_list(df: pd.DataFrame):\n",
    "    namespace_set = set()\n",
    "    \n",
    "    for source, target, _ in tqdm(df.values):\n",
    "        source_namespace = source.split(':')[0]\n",
    "        namespace_set.add(source_namespace)\n",
    "        \n",
    "        target_namespace = target.split(':')[0]\n",
    "        namespace_set.add(target_namespace)\n",
    "    print(namespace_set)"
   ]
  },
  {
   "cell_type": "code",
   "execution_count": 12,
   "id": "signed-summit",
   "metadata": {
    "pycharm": {
     "name": "#%%\n"
    }
   },
   "outputs": [
    {
     "name": "stderr",
     "output_type": "stream",
     "text": [
      "100%|███████████████████████████████████████████████████████████████████████████████████████████████████████████████████████████| 235881/235881 [00:00<00:00, 645531.21it/s]"
     ]
    },
    {
     "name": "stdout",
     "output_type": "stream",
     "text": [
      "{'NCBIGENE', 'PUBCHEM.COMPOUND', 'HP', 'DOID'}\n"
     ]
    },
    {
     "name": "stderr",
     "output_type": "stream",
     "text": [
      "\n"
     ]
    }
   ],
   "source": [
    "get_namespace_list(openbiolink_df)"
   ]
  },
  {
   "cell_type": "code",
   "execution_count": 13,
   "id": "present-collective",
   "metadata": {
    "pycharm": {
     "name": "#%%\n"
    },
    "scrolled": true
   },
   "outputs": [
    {
     "name": "stderr",
     "output_type": "stream",
     "text": [
      "100%|███████████████████████████████████████████████████████████████████████████████████████████████████████████████████████████| 303186/303186 [00:00<00:00, 665825.91it/s]"
     ]
    },
    {
     "name": "stdout",
     "output_type": "stream",
     "text": [
      "{'uniprot', 'drugbank', 'mesh'}\n"
     ]
    },
    {
     "name": "stderr",
     "output_type": "stream",
     "text": [
      "\n"
     ]
    }
   ],
   "source": [
    "get_namespace_list(biokg)"
   ]
  },
  {
   "cell_type": "markdown",
   "id": "friendly-township",
   "metadata": {
    "pycharm": {
     "name": "#%% md\n"
    }
   },
   "source": [
    "## Modification of entries from the orginal networks"
   ]
  },
  {
   "cell_type": "markdown",
   "id": "desirable-wisdom",
   "metadata": {
    "pycharm": {
     "name": "#%% md\n"
    }
   },
   "source": [
    "### Drop phenotype related edges\n",
    "\n",
    "The disease with phenotypes come from the HPO database"
   ]
  },
  {
   "cell_type": "code",
   "execution_count": 14,
   "id": "young-civilian",
   "metadata": {
    "pycharm": {
     "name": "#%%\n"
    }
   },
   "outputs": [
    {
     "name": "stdout",
     "output_type": "stream",
     "text": [
      "Raw verison -  (235881, 3)\n",
      "Filter version -  (74878, 3)\n"
     ]
    }
   ],
   "source": [
    "print('Raw verison - ', openbiolink_df.shape)\n",
    "\n",
    "openbiolink_df = openbiolink_df[~openbiolink_df['target'].str.contains('HP:')]\n",
    "\n",
    "print('Filter version - ', openbiolink_df.shape)"
   ]
  },
  {
   "cell_type": "markdown",
   "id": "surgical-logging",
   "metadata": {
    "pycharm": {
     "name": "#%% md\n"
    }
   },
   "source": [
    "### Add gold standard triples \n",
    "\n",
    "We now create drug-disease direct edges based on clinical trial information."
   ]
  },
  {
   "cell_type": "code",
   "execution_count": 15,
   "id": "whole-swiss",
   "metadata": {
    "pycharm": {
     "name": "#%%\n"
    }
   },
   "outputs": [
    {
     "data": {
      "text/html": [
       "<div>\n",
       "<style scoped>\n",
       "    .dataframe tbody tr th:only-of-type {\n",
       "        vertical-align: middle;\n",
       "    }\n",
       "\n",
       "    .dataframe tbody tr th {\n",
       "        vertical-align: top;\n",
       "    }\n",
       "\n",
       "    .dataframe thead th {\n",
       "        text-align: right;\n",
       "    }\n",
       "</style>\n",
       "<table border=\"1\" class=\"dataframe\">\n",
       "  <thead>\n",
       "    <tr style=\"text-align: right;\">\n",
       "      <th></th>\n",
       "      <th>cid_id</th>\n",
       "      <th>do_id</th>\n",
       "    </tr>\n",
       "  </thead>\n",
       "  <tbody>\n",
       "    <tr>\n",
       "      <th>0</th>\n",
       "      <td>PUBCHEM.COMPOUND:10114</td>\n",
       "      <td>DOID:1588</td>\n",
       "    </tr>\n",
       "    <tr>\n",
       "      <th>1</th>\n",
       "      <td>PUBCHEM.COMPOUND:10133</td>\n",
       "      <td>DOID:10588</td>\n",
       "    </tr>\n",
       "    <tr>\n",
       "      <th>2</th>\n",
       "      <td>PUBCHEM.COMPOUND:10133</td>\n",
       "      <td>DOID:9352</td>\n",
       "    </tr>\n",
       "    <tr>\n",
       "      <th>3</th>\n",
       "      <td>PUBCHEM.COMPOUND:10133</td>\n",
       "      <td>DOID:10582</td>\n",
       "    </tr>\n",
       "    <tr>\n",
       "      <th>4</th>\n",
       "      <td>PUBCHEM.COMPOUND:10133</td>\n",
       "      <td>DOID:905</td>\n",
       "    </tr>\n",
       "  </tbody>\n",
       "</table>\n",
       "</div>"
      ],
      "text/plain": [
       "                   cid_id       do_id\n",
       "0  PUBCHEM.COMPOUND:10114   DOID:1588\n",
       "1  PUBCHEM.COMPOUND:10133  DOID:10588\n",
       "2  PUBCHEM.COMPOUND:10133   DOID:9352\n",
       "3  PUBCHEM.COMPOUND:10133  DOID:10582\n",
       "4  PUBCHEM.COMPOUND:10133    DOID:905"
      ]
     },
     "execution_count": 15,
     "metadata": {},
     "output_type": "execute_result"
    }
   ],
   "source": [
    "openbiolink_gold_standard_df = pd.read_csv(\n",
    "    'https://raw.githubusercontent.com/drug2ways/results/master/validation/notebooks/validation_openbiolink.tsv',\n",
    "    sep='\\t',\n",
    "    dtype=str,\n",
    "    usecols=['cid_id', 'do_id']\n",
    ")\n",
    "\n",
    "openbiolink_gold_standard_df['cid_id'] = openbiolink_gold_standard_df['cid_id'].map(\n",
    "    lambda x: f'PUBCHEM.COMPOUND:{x}'\n",
    ")\n",
    "\n",
    "openbiolink_gold_standard_df.head()"
   ]
  },
  {
   "cell_type": "code",
   "execution_count": 16,
   "id": "comprehensive-penny",
   "metadata": {
    "pycharm": {
     "name": "#%%\n"
    }
   },
   "outputs": [],
   "source": [
    "def add_drug_disease_relations(\n",
    "    new_df: pd.DataFrame,\n",
    "    original_df: pd.DataFrame,\n",
    "):\n",
    "    counter = 0\n",
    "    for drug, disease in tqdm(new_df.values, desc='Populating new relations'):\n",
    "        if drug in original_df['source'].values and disease in original_df['target'].values:\n",
    "            counter += 1 \n",
    "            original_df = original_df.append({\n",
    "                'source': drug,\n",
    "                'target': disease,\n",
    "                'relation': 'treats'\n",
    "            }, ignore_index=True)\n",
    "        \n",
    "    logger.warning(f'Added {counter} drug-disease relations')\n",
    "    return original_df"
   ]
  },
  {
   "cell_type": "code",
   "execution_count": 17,
   "id": "million-oriental",
   "metadata": {
    "pycharm": {
     "name": "#%%\n"
    }
   },
   "outputs": [
    {
     "name": "stderr",
     "output_type": "stream",
     "text": [
      "Populating new relations: 100%|████████████████████████████████████████████████████████████████████████████████████████████████████████| 5151/5151 [00:26<00:00, 194.09it/s]\n",
      "Added 5151 drug-disease relations\n"
     ]
    },
    {
     "data": {
      "text/html": [
       "<div>\n",
       "<style scoped>\n",
       "    .dataframe tbody tr th:only-of-type {\n",
       "        vertical-align: middle;\n",
       "    }\n",
       "\n",
       "    .dataframe tbody tr th {\n",
       "        vertical-align: top;\n",
       "    }\n",
       "\n",
       "    .dataframe thead th {\n",
       "        text-align: right;\n",
       "    }\n",
       "</style>\n",
       "<table border=\"1\" class=\"dataframe\">\n",
       "  <thead>\n",
       "    <tr style=\"text-align: right;\">\n",
       "      <th></th>\n",
       "      <th>source</th>\n",
       "      <th>target</th>\n",
       "      <th>relation</th>\n",
       "    </tr>\n",
       "  </thead>\n",
       "  <tbody>\n",
       "    <tr>\n",
       "      <th>0</th>\n",
       "      <td>PUBCHEM.COMPOUND:1</td>\n",
       "      <td>NCBIGENE:3162</td>\n",
       "      <td>activates</td>\n",
       "    </tr>\n",
       "    <tr>\n",
       "      <th>1</th>\n",
       "      <td>PUBCHEM.COMPOUND:1</td>\n",
       "      <td>NCBIGENE:3308</td>\n",
       "      <td>activates</td>\n",
       "    </tr>\n",
       "    <tr>\n",
       "      <th>2</th>\n",
       "      <td>PUBCHEM.COMPOUND:1</td>\n",
       "      <td>NCBIGENE:4804</td>\n",
       "      <td>activates</td>\n",
       "    </tr>\n",
       "    <tr>\n",
       "      <th>3</th>\n",
       "      <td>PUBCHEM.COMPOUND:1</td>\n",
       "      <td>NCBIGENE:1020</td>\n",
       "      <td>inhibits</td>\n",
       "    </tr>\n",
       "    <tr>\n",
       "      <th>4</th>\n",
       "      <td>PUBCHEM.COMPOUND:1</td>\n",
       "      <td>NCBIGENE:54205</td>\n",
       "      <td>inhibits</td>\n",
       "    </tr>\n",
       "  </tbody>\n",
       "</table>\n",
       "</div>"
      ],
      "text/plain": [
       "               source          target   relation\n",
       "0  PUBCHEM.COMPOUND:1   NCBIGENE:3162  activates\n",
       "1  PUBCHEM.COMPOUND:1   NCBIGENE:3308  activates\n",
       "2  PUBCHEM.COMPOUND:1   NCBIGENE:4804  activates\n",
       "3  PUBCHEM.COMPOUND:1   NCBIGENE:1020   inhibits\n",
       "4  PUBCHEM.COMPOUND:1  NCBIGENE:54205   inhibits"
      ]
     },
     "execution_count": 17,
     "metadata": {},
     "output_type": "execute_result"
    }
   ],
   "source": [
    "openbiolink_df = add_drug_disease_relations(\n",
    "    new_df=openbiolink_gold_standard_df,\n",
    "    original_df=openbiolink_df\n",
    ")\n",
    "openbiolink_df.head()"
   ]
  },
  {
   "cell_type": "markdown",
   "id": "pending-throat",
   "metadata": {
    "pycharm": {
     "name": "#%% md\n"
    }
   },
   "source": [
    "## Filter drug/disease nodes\n",
    "\n",
    "We now have to ensure that we have nodes where atleast the drug or disease node is connected to each other. This is to ensure that we can validate the results of the our algorithm in the downstream tasks."
   ]
  },
  {
   "cell_type": "code",
   "execution_count": 18,
   "id": "finite-receiver",
   "metadata": {
    "pycharm": {
     "name": "#%%\n"
    }
   },
   "outputs": [
    {
     "name": "stdout",
     "output_type": "stream",
     "text": [
      "Old dataframe - (80029, 3)\n"
     ]
    },
    {
     "name": "stderr",
     "output_type": "stream",
     "text": [
      "100%|██████████████████████████████████████████████████████████████████████████████████████████████████████████████████████████████| 80029/80029 [00:03<00:00, 24433.45it/s]"
     ]
    },
    {
     "name": "stdout",
     "output_type": "stream",
     "text": [
      "Filtered df - (52238, 3)\n"
     ]
    },
    {
     "name": "stderr",
     "output_type": "stream",
     "text": [
      "\n"
     ]
    },
    {
     "data": {
      "text/plain": [
       "activates    32610\n",
       "inhibits     14477\n",
       "treats        5151\n",
       "Name: relation, dtype: int64"
      ]
     },
     "execution_count": 18,
     "metadata": {},
     "output_type": "execute_result"
    }
   ],
   "source": [
    "# OpenBioLink KG\n",
    "openbiolink_val_drugs = openbiolink_gold_standard_df['cid_id'].unique().tolist()\n",
    "openbiolink_val_diseases = openbiolink_gold_standard_df['do_id'].unique().tolist()\n",
    "\n",
    "remove_index = set()\n",
    "\n",
    "print(f'Old dataframe - {openbiolink_df.shape}')\n",
    "for index, row in tqdm(openbiolink_df.iterrows(), total=openbiolink_df.shape[0]):\n",
    "    (source, target, rel) = row\n",
    "    if source.startswith('PUBCHEM.COMPOUND') and source not in openbiolink_val_drugs:\n",
    "        remove_index.add(index)\n",
    "    elif target.startswith('DOID') and target not in openbiolink_val_diseases:\n",
    "        remove_index.add(index)\n",
    "        \n",
    "openbiolink_df.drop(index=remove_index, inplace=True)\n",
    "print(f'Filtered df - {openbiolink_df.shape}')\n",
    "\n",
    "openbiolink_df['relation'].value_counts()"
   ]
  },
  {
   "cell_type": "code",
   "execution_count": 19,
   "id": "sized-appendix",
   "metadata": {
    "pycharm": {
     "name": "#%%\n"
    }
   },
   "outputs": [
    {
     "name": "stdout",
     "output_type": "stream",
     "text": [
      "Old dataframe - (303186, 3)\n"
     ]
    },
    {
     "name": "stderr",
     "output_type": "stream",
     "text": [
      "100%|████████████████████████████████████████████████████████████████████████████████████████████████████████████████████████████| 303186/303186 [00:14<00:00, 21441.49it/s]\n"
     ]
    },
    {
     "name": "stdout",
     "output_type": "stream",
     "text": [
      "Filtered df - (288495, 3)\n"
     ]
    },
    {
     "data": {
      "text/plain": [
       "associates    236435\n",
       "treats         52060\n",
       "Name: relation, dtype: int64"
      ]
     },
     "execution_count": 19,
     "metadata": {},
     "output_type": "execute_result"
    }
   ],
   "source": [
    "# BioKG\n",
    "drug_disease_filtered_biokg = biokg[biokg['relation'] == 'treats']\n",
    "\n",
    "biokg_val_drugs = drug_disease_filtered_biokg['source'].unique().tolist()\n",
    "biokg_val_diseases = drug_disease_filtered_biokg['target'].unique().tolist()\n",
    "\n",
    "remove_index = set()\n",
    "\n",
    "print(f'Old dataframe - {biokg.shape}')\n",
    "for index, row in tqdm(biokg.iterrows(), total=biokg.shape[0]):\n",
    "    (source, target, rel) = row\n",
    "    if source.startswith('drugbank') and source not in biokg_val_drugs:\n",
    "        remove_index.add(index)\n",
    "    elif target.startswith('mesh') and target not in biokg_val_diseases:\n",
    "        remove_index.add(index)\n",
    "        \n",
    "biokg.drop(index=remove_index, inplace=True)\n",
    "print(f'Filtered df - {biokg.shape}')\n",
    "\n",
    "biokg['relation'].value_counts()"
   ]
  },
  {
   "cell_type": "markdown",
   "id": "interracial-springer",
   "metadata": {
    "pycharm": {
     "name": "#%% md\n"
    }
   },
   "source": [
    "### Get node and relation statistsics"
   ]
  },
  {
   "cell_type": "code",
   "execution_count": 20,
   "id": "flexible-burke",
   "metadata": {
    "pycharm": {
     "name": "#%%\n"
    },
    "scrolled": false
   },
   "outputs": [],
   "source": [
    "openbiolink_graph = create_graph_from_df(openbiolink_df)\n",
    "nx.write_adjlist(openbiolink_graph, f'../data/kg/openbiolink.adjlist')"
   ]
  },
  {
   "cell_type": "code",
   "execution_count": 21,
   "id": "centered-window",
   "metadata": {
    "pycharm": {
     "name": "#%%\n"
    }
   },
   "outputs": [],
   "source": [
    "biokg_graph = create_graph_from_df(biokg)\n",
    "nx.write_adjlist(biokg_graph, f'../data/kg/biokg.adjlist')"
   ]
  },
  {
   "cell_type": "markdown",
   "id": "adverse-contamination",
   "metadata": {
    "pycharm": {
     "name": "#%% md\n"
    }
   },
   "source": [
    "#### OpenBioLink KG summary statistics"
   ]
  },
  {
   "cell_type": "code",
   "execution_count": 22,
   "id": "yellow-celebrity",
   "metadata": {
    "pycharm": {
     "name": "#%%\n"
    }
   },
   "outputs": [
    {
     "name": "stdout",
     "output_type": "stream",
     "text": [
      "##### Number of nodes in OpenBioLink KG #####\n",
      "5972: total # of nodes\n",
      "264: # of unique diseases\n",
      "610: # of unique drugs\n",
      "5098: # of unique proteins\n"
     ]
    }
   ],
   "source": [
    "# Node summary\n",
    "openbiolink_drugs = set()\n",
    "openbiolink_proteins = set()\n",
    "openbiolink_diseases = set()\n",
    "\n",
    "for node in openbiolink_graph.nodes():\n",
    "    if node.startswith('PUBCHEM.COMPOUND:'):\n",
    "        openbiolink_drugs.add(node)\n",
    "    elif node.startswith('NCBIGENE:'):\n",
    "        openbiolink_proteins.add(node)\n",
    "    elif node.startswith('DOID:'):\n",
    "        openbiolink_diseases.add(node)\n",
    "        \n",
    "print('##### Number of nodes in OpenBioLink KG #####')\n",
    "print(f'{len(openbiolink_graph.nodes())}: total # of nodes')\n",
    "print(f'{len(openbiolink_diseases)}: # of unique diseases')\n",
    "print(f'{len(openbiolink_drugs)}: # of unique drugs')\n",
    "print(f'{len(openbiolink_proteins)}: # of unique proteins')"
   ]
  },
  {
   "cell_type": "code",
   "execution_count": 23,
   "id": "allied-quick",
   "metadata": {
    "pycharm": {
     "name": "#%%\n"
    }
   },
   "outputs": [
    {
     "name": "stdout",
     "output_type": "stream",
     "text": [
      "##### Number of edges in OpenBioLink KG #####\n",
      "50515: total # of edges\n",
      "6823: # of drug-protein interactions\n",
      "38034: # of protein-protein interactions\n",
      "528: # of protein-disease interactions\n",
      "5130: # of drug-disease interactions\n"
     ]
    }
   ],
   "source": [
    "# Edge summary\n",
    "drug_protein_openbio = 0\n",
    "protein_protein_openbio = 0\n",
    "protein_disease_openbio = 0\n",
    "drug_disease_openbio = 0\n",
    "\n",
    "for source, target in openbiolink_graph.edges():\n",
    "    if 'PUBCHEM.COMPOUND' in source and 'NCBIGENE' in target:\n",
    "        drug_protein_openbio += 1\n",
    "    elif 'NCBIGENE' in source and 'NCBIGENE' in target:\n",
    "        protein_protein_openbio += 1\n",
    "    elif 'NCBIGENE' in source and 'DOID' in target:\n",
    "        protein_disease_openbio += 1\n",
    "    elif 'PUBCHEM.COMPOUND' in source and 'DOID' in target:\n",
    "        drug_disease_openbio += 1\n",
    "        \n",
    "print('##### Number of edges in OpenBioLink KG #####')\n",
    "print(f'{len(openbiolink_graph.edges())}: total # of edges')\n",
    "print(f'{drug_protein_openbio}: # of drug-protein interactions')\n",
    "print(f'{protein_protein_openbio}: # of protein-protein interactions')\n",
    "print(f'{protein_disease_openbio}: # of protein-disease interactions')\n",
    "print(f'{drug_disease_openbio}: # of drug-disease interactions')"
   ]
  },
  {
   "cell_type": "markdown",
   "id": "floppy-murder",
   "metadata": {
    "pycharm": {
     "name": "#%% md\n"
    }
   },
   "source": [
    "#### BioKG summary statistics"
   ]
  },
  {
   "cell_type": "code",
   "execution_count": 24,
   "id": "obvious-dating",
   "metadata": {
    "pycharm": {
     "name": "#%%\n"
    }
   },
   "outputs": [
    {
     "name": "stdout",
     "output_type": "stream",
     "text": [
      "##### Number of nodes in BioKG #####\n",
      "40654: total # of nodes\n",
      "2322: # of unique drugs\n",
      "36591: # of unique proteins\n",
      "1741: # of unique diseases\n"
     ]
    }
   ],
   "source": [
    "biokg_drugs = set()\n",
    "biokg_proteins = set()\n",
    "biokg_diseases = set()\n",
    "\n",
    "for node in biokg_graph.nodes():\n",
    "    if node.startswith('drugbank:'):\n",
    "        biokg_drugs.add(node)\n",
    "    elif node.startswith('uniprot:'):\n",
    "        biokg_proteins.add(node)\n",
    "    elif node.startswith('mesh:'):\n",
    "        biokg_diseases.add(node)\n",
    "        \n",
    "print('##### Number of nodes in BioKG #####')\n",
    "print(f'{len(biokg_graph.nodes())}: total # of nodes')\n",
    "print(f'{len(biokg_drugs)}: # of unique drugs')\n",
    "print(f'{len(biokg_proteins)}: # of unique proteins')\n",
    "print(f'{len(biokg_diseases)}: # of unique diseases')"
   ]
  },
  {
   "cell_type": "code",
   "execution_count": 25,
   "id": "continuous-teaching",
   "metadata": {
    "pycharm": {
     "name": "#%%\n"
    }
   },
   "outputs": [
    {
     "name": "stdout",
     "output_type": "stream",
     "text": [
      "##### Number of edges in BioKG ######\n",
      "282738: total # of interactions\n",
      "18251: # of drug-protein interactions\n",
      "123207: # of protein-protein interactions\n",
      "89269: # of protein-disease interactions\n",
      "51805: # of drug-disease interactions\n"
     ]
    }
   ],
   "source": [
    "drug_protein_biokg = 0\n",
    "protein_protein_biokg = 0\n",
    "protein_disease_biokg = 0\n",
    "drug_disease_biokg = 0\n",
    "\n",
    "for source, target in biokg_graph.edges():\n",
    "    if 'drugbank' in source and 'uniprot' in target:\n",
    "        drug_protein_biokg += 1\n",
    "    elif 'uniprot' in source and 'uniprot' in target:\n",
    "        protein_protein_biokg += 1\n",
    "    elif 'uniprot' in source and 'mesh' in target:\n",
    "        protein_disease_biokg += 1\n",
    "    if 'drugbank' in source and 'mesh' in target:\n",
    "        drug_disease_biokg += 1\n",
    "        \n",
    "print('##### Number of edges in BioKG ######')       \n",
    "print(f'{len(biokg_graph.edges())}: total # of interactions')\n",
    "print(f'{drug_protein_biokg}: # of drug-protein interactions')\n",
    "print(f'{protein_protein_biokg}: # of protein-protein interactions')\n",
    "print(f'{protein_disease_biokg}: # of protein-disease interactions')\n",
    "print(f'{drug_disease_biokg}: # of drug-disease interactions')"
   ]
  },
  {
   "cell_type": "markdown",
   "id": "cutting-conditioning",
   "metadata": {
    "pycharm": {
     "name": "#%% md\n"
    }
   },
   "source": [
    "## Plot distributions of nodes"
   ]
  },
  {
   "cell_type": "code",
   "execution_count": 26,
   "id": "organized-symbol",
   "metadata": {
    "pycharm": {
     "name": "#%%\n"
    }
   },
   "outputs": [],
   "source": [
    "data_nodes = {\n",
    "    'KG': [\n",
    "        'OpenBioLink',\n",
    "        'BioKG',\n",
    "        'OpenBioLink',\n",
    "        'BioKG',\n",
    "        'OpenBioLink',\n",
    "        'BioKG',\n",
    "    ],\n",
    "    'Count':[\n",
    "        len(openbiolink_drugs), \n",
    "        len(biokg_drugs),\n",
    "        len(openbiolink_proteins), \n",
    "        len(biokg_proteins),\n",
    "        len(openbiolink_diseases),\n",
    "        len(biokg_diseases),\n",
    "    ],\n",
    "    'Node Types':[\n",
    "        'Drugs','Drugs',\n",
    "        'Genes/Proteins','Genes/Proteins',\n",
    "        'Diseases','Diseases'\n",
    "    ]\n",
    "}\n",
    "\n",
    "node_df = pd.DataFrame(data=data_nodes)"
   ]
  },
  {
   "cell_type": "code",
   "execution_count": 27,
   "id": "honest-beaver",
   "metadata": {
    "pycharm": {
     "name": "#%%\n"
    }
   },
   "outputs": [],
   "source": [
    "data_edges = {\n",
    "    'KG': [\n",
    "        'OpenBioLink','BioKG',\n",
    "        'OpenBioLink','BioKG',\n",
    "        'OpenBioLink','BioKG',\n",
    "        'OpenBioLink','BioKG',\n",
    "    ],\n",
    "    'Count':[\n",
    "        drug_protein_openbio,drug_protein_biokg,\n",
    "        protein_protein_openbio,protein_protein_biokg,\n",
    "        protein_disease_openbio,protein_disease_biokg,\n",
    "        drug_disease_openbio,drug_disease_biokg,\n",
    "    ],\n",
    "    'Edge Types':[\n",
    "        'drug-protein','drug-protein',\n",
    "        'protein-protein','protein-protein',\n",
    "        'protein-disease','protein-disease',\n",
    "        'drug-disease','drug-disease'\n",
    "    ]\n",
    "}\n",
    "\n",
    "edges_df = pd.DataFrame(data=data_edges)"
   ]
  },
  {
   "cell_type": "code",
   "execution_count": 28,
   "id": "executive-consideration",
   "metadata": {
    "pycharm": {
     "name": "#%%\n"
    }
   },
   "outputs": [
    {
     "data": {
      "image/png": "[encoded data removed]",
      "text/plain": [
       "<Figure size 1080x360 with 2 Axes>"
      ]
     },
     "metadata": {
      "needs_background": "light"
     },
     "output_type": "display_data"
    }
   ],
   "source": [
    "sns.set(rc={'figure.figsize':(15,5)})\n",
    "f, axis = plt.subplots(1, 2, figsize=(15,5))\n",
    "\n",
    "# grid lines\n",
    "sns.set_style(\"darkgrid\")\n",
    "\n",
    "bx = sns.barplot(\n",
    "    x=\"Node Types\",\n",
    "    y=\"Count\",\n",
    "    hue='KG',\n",
    "    data=node_df, \n",
    "    palette=['#FC766AFF', '#5B84B1FF'],\n",
    "    ax=axis[0]\n",
    ") \n",
    "bx = sns.barplot(\n",
    "    x=\"Edge Types\", \n",
    "    y=\"Count\", \n",
    "    hue='KG', \n",
    "    data=edges_df, \n",
    "    palette=['#FC766AFF','#5B84B1FF'], \n",
    "    ax=axis[1]\n",
    ") \n",
    "\n",
    "# title\n",
    "axis[0].set_title(\n",
    "    'Distribution of Node Types', \n",
    "    fontsize=15, \n",
    "    fontweight=\"bold\"\n",
    ")\n",
    "axis[1].set_title(\n",
    "    'Distribution of Relationships', \n",
    "    fontsize=15, \n",
    "    fontweight=\"bold\"\n",
    ")\n",
    "\n",
    "# axis labels\n",
    "axis[0].set_xlabel(\"Node Type\", fontsize=14, fontweight=\"bold\")\n",
    "axis[0].set_ylabel(\"Count\", fontsize=14, fontweight=\"bold\")\n",
    "axis[1].set_xlabel(\"Edge Type\", fontsize=14, fontweight=\"bold\")\n",
    "axis[1].set_ylabel(\"\")   \n",
    "    \n",
    "# axis ticks\n",
    "axis[0].set_xticklabels(labels=['drug', 'protein', 'disease'])\n",
    "axis[1].set_xticklabels(labels=['drug-protein','protein-protein','protein-disease', 'drug-disease'])\n",
    "\n",
    "# limit\n",
    "axis[0].set_ylim(10, 1000000)\n",
    "axis[1].set_ylim(10, 1000000)\n",
    "\n",
    "# Add counts above bars\n",
    "for p in axis[0].patches:\n",
    "    _x = p.get_x() + p.get_width() / 2\n",
    "    _y = p.get_y() + p.get_height() + 50\n",
    "    value = int(p.get_height())\n",
    "    axis[0].text(_x, _y, value, ha=\"center\")\n",
    "    \n",
    "\n",
    "for p in axis[1].patches:\n",
    "    _x = p.get_x() + p.get_width() / 2\n",
    "    _y = p.get_y() + p.get_height() + 50\n",
    "    value = int(p.get_height())\n",
    "    axis[1].text(_x, _y, value, ha=\"center\")   \n",
    "\n",
    "\n",
    "plt.tight_layout()\n",
    "axis[0].set_yscale(\"log\") #the log transformation\n",
    "axis[1].set_yscale(\"log\") #the log transformation\n",
    "\n",
    "plt.savefig(\n",
    "    ('../data/plots/graph-stats.png'),\n",
    "    dpi=400,\n",
    "    bbox_inches='tight', \n",
    ")\n",
    "plt.show()"
   ]
  },
  {
   "cell_type": "markdown",
   "id": "annoying-cleaners",
   "metadata": {
    "pycharm": {
     "name": "#%% md\n"
    }
   },
   "source": [
    "## Drug-disease edge percentage "
   ]
  },
  {
   "cell_type": "code",
   "execution_count": 29,
   "id": "copyrighted-brand",
   "metadata": {
    "pycharm": {
     "name": "#%%\n"
    }
   },
   "outputs": [
    {
     "data": {
      "text/plain": [
       "10.155"
      ]
     },
     "execution_count": 29,
     "metadata": {},
     "output_type": "execute_result"
    }
   ],
   "source": [
    "openbio_total_edges = (\n",
    "    drug_protein_openbio + protein_protein_openbio + protein_disease_openbio + drug_disease_openbio\n",
    ")\n",
    "round((drug_disease_openbio / openbio_total_edges) * 100, 3)"
   ]
  },
  {
   "cell_type": "code",
   "execution_count": 30,
   "id": "occupational-english",
   "metadata": {
    "pycharm": {
     "name": "#%%\n"
    }
   },
   "outputs": [
    {
     "data": {
      "text/plain": [
       "18.336"
      ]
     },
     "execution_count": 30,
     "metadata": {},
     "output_type": "execute_result"
    }
   ],
   "source": [
    "biokg_total_edges = (\n",
    "    drug_protein_biokg + protein_protein_biokg + protein_disease_biokg + drug_disease_biokg\n",
    ")\n",
    "round((drug_disease_biokg / biokg_total_edges) * 100, 3)"
   ]
  },
  {
   "cell_type": "markdown",
   "id": "signed-arrow",
   "metadata": {
    "pycharm": {
     "name": "#%% md\n"
    }
   },
   "source": [
    "## Spliting the data into test, train, validate (80,10,10)\n",
    "\n",
    "- Since we are interested in the prediction of drug-disease edges from the models, we focus on splitting these edges into the training, testing, and validation data. \n",
    "\n",
    "- From the edge percentages above, we observe that for Hetionet the percentage of these edges is low (~0.4%). When splitting this into the three sets, a very small percetage of these edges would be present in the training data making the model underfit for these predictions. As a results, we exclude this dataset from further downstream analysis.\n",
    "\n",
    "- With regard to the other two KG, we want to ensure that an 80/10/10 split of drug-disease edges are present in each of the three sets."
   ]
  },
  {
   "cell_type": "code",
   "execution_count": 31,
   "id": "certified-taste",
   "metadata": {
    "pycharm": {
     "name": "#%%\n"
    }
   },
   "outputs": [],
   "source": [
    "def _split_data(df: pd.DataFrame, split_percentage: tuple = (0.8, 0.1)):\n",
    "    \"\"\"Method for creating the train, test, validation split of the data.\n",
    "    \n",
    "    df : Network dataframe\n",
    "    split_percentage: Tuple containing the training, testing, and validation ratio respectively. \n",
    "    The values of the percentage have to be between 0 and 1.\n",
    "    \"\"\"\n",
    "    \n",
    "    # Filter interested data for splitting\n",
    "    treat_relations = df[df['relation'] == 'treats']\n",
    "    \n",
    "    # Shuffle the dataframe\n",
    "    treat_relations = treat_relations.sample(frac=1).reset_index(drop=True)\n",
    "    network = df[df['relation'] != 'treats']  # Remaining network data\n",
    "            \n",
    "    # Split the data into pre-defined percentage\n",
    "    train_ratio, val_ratio = split_percentage  # default split is 80/10/10\n",
    "    train, val, test = np.split(\n",
    "        treat_relations,\n",
    "        [\n",
    "            int(train_ratio * len(treat_relations)),  # train ratio\n",
    "            int((1 - val_ratio) * len(treat_relations))\n",
    "        ])        \n",
    "    \n",
    "    logger.warning(f\"Percentages : Train - {round(train.shape[0]/df.shape[0], 2)}\\\n",
    "    Test - {round(test.shape[0]/df.shape[0], 2)} \\\n",
    "    Validate - {round(val.shape[0]/df.shape[0], 2)}\"\n",
    "    )\n",
    "    \n",
    "    # Add the original network data to training data\n",
    "    train = train.append(network, ignore_index=True)   \n",
    "    logger.warning(f\"All Train - {round(train.shape[0]/df.shape[0], 2)}\")\n",
    "    return train, test, val"
   ]
  },
  {
   "cell_type": "markdown",
   "id": "adapted-antibody",
   "metadata": {
    "pycharm": {
     "name": "#%% md\n"
    }
   },
   "source": [
    "#### Save the data files for further use"
   ]
  },
  {
   "cell_type": "code",
   "execution_count": 32,
   "id": "supreme-pitch",
   "metadata": {
    "pycharm": {
     "name": "#%%\n"
    },
    "scrolled": true
   },
   "outputs": [
    {
     "data": {
      "text/html": [
       "<div>\n",
       "<style scoped>\n",
       "    .dataframe tbody tr th:only-of-type {\n",
       "        vertical-align: middle;\n",
       "    }\n",
       "\n",
       "    .dataframe tbody tr th {\n",
       "        vertical-align: top;\n",
       "    }\n",
       "\n",
       "    .dataframe thead th {\n",
       "        text-align: right;\n",
       "    }\n",
       "</style>\n",
       "<table border=\"1\" class=\"dataframe\">\n",
       "  <thead>\n",
       "    <tr style=\"text-align: right;\">\n",
       "      <th></th>\n",
       "      <th>source</th>\n",
       "      <th>relation</th>\n",
       "      <th>target</th>\n",
       "    </tr>\n",
       "  </thead>\n",
       "  <tbody>\n",
       "    <tr>\n",
       "      <th>0</th>\n",
       "      <td>PUBCHEM.COMPOUND:33741</td>\n",
       "      <td>treats</td>\n",
       "      <td>DOID:1540</td>\n",
       "    </tr>\n",
       "    <tr>\n",
       "      <th>1</th>\n",
       "      <td>PUBCHEM.COMPOUND:4595</td>\n",
       "      <td>treats</td>\n",
       "      <td>DOID:0060058</td>\n",
       "    </tr>\n",
       "    <tr>\n",
       "      <th>2</th>\n",
       "      <td>PUBCHEM.COMPOUND:31401</td>\n",
       "      <td>treats</td>\n",
       "      <td>DOID:13580</td>\n",
       "    </tr>\n",
       "    <tr>\n",
       "      <th>3</th>\n",
       "      <td>PUBCHEM.COMPOUND:30751</td>\n",
       "      <td>treats</td>\n",
       "      <td>DOID:1793</td>\n",
       "    </tr>\n",
       "    <tr>\n",
       "      <th>4</th>\n",
       "      <td>PUBCHEM.COMPOUND:5284616</td>\n",
       "      <td>treats</td>\n",
       "      <td>DOID:3721</td>\n",
       "    </tr>\n",
       "  </tbody>\n",
       "</table>\n",
       "</div>"
      ],
      "text/plain": [
       "                     source relation        target\n",
       "0    PUBCHEM.COMPOUND:33741   treats     DOID:1540\n",
       "1     PUBCHEM.COMPOUND:4595   treats  DOID:0060058\n",
       "2    PUBCHEM.COMPOUND:31401   treats    DOID:13580\n",
       "3    PUBCHEM.COMPOUND:30751   treats     DOID:1793\n",
       "4  PUBCHEM.COMPOUND:5284616   treats     DOID:3721"
      ]
     },
     "execution_count": 32,
     "metadata": {},
     "output_type": "execute_result"
    }
   ],
   "source": [
    "os.makedirs('../data/kg/openbiolink', exist_ok=True)\n",
    "\n",
    "if not os.path.exists('../data/kg/openbiolink/train.tsv'):\n",
    "    openbiolink_train, openbiolink_test, openbiolink_val = _split_data(\n",
    "        openbiolink_df\n",
    "    )\n",
    "    openbiolink_train = openbiolink_train[['source', 'relation', 'target']]\n",
    "    openbiolink_test = openbiolink_test[['source', 'relation', 'target']]\n",
    "    openbiolink_val = openbiolink_val[['source', 'relation', 'target']]\n",
    "    \n",
    "    openbiolink_train.to_csv('../data/kg/openbiolink/train.tsv', sep='\\t', index=False, header = False)\n",
    "    openbiolink_test.to_csv('../data/kg/openbiolink/test.tsv', sep='\\t', index=False, header = False)\n",
    "    openbiolink_val.to_csv('../data/kg/openbiolink/val.tsv', sep='\\t', index=False, header = False)\n",
    "else:\n",
    "    openbiolink_train = pd.read_csv('../data/kg/openbiolink/train.tsv', sep='\\t', names=['source', 'relation', 'target'])\n",
    "    openbiolink_test = pd.read_csv('../data/kg/openbiolink/test.tsv', sep='\\t', names=['source', 'relation', 'target'])\n",
    "    openbiolink_val = pd.read_csv('../data/kg/openbiolink/val.tsv', sep='\\t', names=['source', 'relation', 'target'])\n",
    "\n",
    "openbiolink_train.head()"
   ]
  },
  {
   "cell_type": "code",
   "execution_count": 33,
   "id": "official-intellectual",
   "metadata": {
    "pycharm": {
     "name": "#%%\n"
    },
    "scrolled": true
   },
   "outputs": [
    {
     "data": {
      "text/html": [
       "<div>\n",
       "<style scoped>\n",
       "    .dataframe tbody tr th:only-of-type {\n",
       "        vertical-align: middle;\n",
       "    }\n",
       "\n",
       "    .dataframe tbody tr th {\n",
       "        vertical-align: top;\n",
       "    }\n",
       "\n",
       "    .dataframe thead th {\n",
       "        text-align: right;\n",
       "    }\n",
       "</style>\n",
       "<table border=\"1\" class=\"dataframe\">\n",
       "  <thead>\n",
       "    <tr style=\"text-align: right;\">\n",
       "      <th></th>\n",
       "      <th>source</th>\n",
       "      <th>relation</th>\n",
       "      <th>target</th>\n",
       "    </tr>\n",
       "  </thead>\n",
       "  <tbody>\n",
       "    <tr>\n",
       "      <th>0</th>\n",
       "      <td>drugbank:DB06194</td>\n",
       "      <td>treats</td>\n",
       "      <td>mesh:D014555</td>\n",
       "    </tr>\n",
       "    <tr>\n",
       "      <th>1</th>\n",
       "      <td>drugbank:DB00184</td>\n",
       "      <td>treats</td>\n",
       "      <td>mesh:D050197</td>\n",
       "    </tr>\n",
       "    <tr>\n",
       "      <th>2</th>\n",
       "      <td>drugbank:DB06973</td>\n",
       "      <td>treats</td>\n",
       "      <td>mesh:D004195</td>\n",
       "    </tr>\n",
       "    <tr>\n",
       "      <th>3</th>\n",
       "      <td>drugbank:DB00295</td>\n",
       "      <td>treats</td>\n",
       "      <td>mesh:D013705</td>\n",
       "    </tr>\n",
       "    <tr>\n",
       "      <th>4</th>\n",
       "      <td>drugbank:DB02709</td>\n",
       "      <td>treats</td>\n",
       "      <td>mesh:D065626</td>\n",
       "    </tr>\n",
       "  </tbody>\n",
       "</table>\n",
       "</div>"
      ],
      "text/plain": [
       "             source relation        target\n",
       "0  drugbank:DB06194   treats  mesh:D014555\n",
       "1  drugbank:DB00184   treats  mesh:D050197\n",
       "2  drugbank:DB06973   treats  mesh:D004195\n",
       "3  drugbank:DB00295   treats  mesh:D013705\n",
       "4  drugbank:DB02709   treats  mesh:D065626"
      ]
     },
     "execution_count": 33,
     "metadata": {},
     "output_type": "execute_result"
    }
   ],
   "source": [
    "os.makedirs('../data/kg/biokg', exist_ok=True)\n",
    "\n",
    "if not os.path.exists('../data/kg/biokg/train.tsv'):\n",
    "    biokg_train, biokg_test, biokg_val = _split_data(\n",
    "        biokg\n",
    "    )\n",
    "    \n",
    "    biokg_train = biokg_train[['source', 'relation', 'target']]\n",
    "    biokg_test = biokg_test[['source', 'relation', 'target']]\n",
    "    biokg_val = biokg_val[['source', 'relation', 'target']]\n",
    "    \n",
    "    biokg_train.to_csv('../data/kg/biokg/train.tsv', sep='\\t', index=False, header = False)\n",
    "    biokg_test.to_csv('../data/kg/biokg/test.tsv', sep='\\t', index=False, header = False)\n",
    "    biokg_val.to_csv('../data/kg/biokg/val.tsv', sep='\\t', index=False, header = False)\n",
    "    \n",
    "else:\n",
    "    biokg_train = pd.read_csv('../data/kg/biokg/train.tsv', sep='\\t', names=['source', 'relation', 'target'])\n",
    "    biokg_test = pd.read_csv('../data/kg/biokg/test.tsv', sep='\\t', names=['source', 'relation', 'target'])\n",
    "    biokg_val = pd.read_csv('../data/kg/biokg/val.tsv', sep='\\t', names=['source', 'relation', 'target'])\n",
    "\n",
    "biokg_train.head()"
   ]
  },
  {
   "cell_type": "markdown",
   "id": "heavy-perry",
   "metadata": {
    "pycharm": {
     "name": "#%% md\n"
    }
   },
   "source": [
    "## Unique pair in testing\n",
    "\n",
    "Since testing data is essential for model performance evaluation, we now look at the unique pairs for each drug-disease edges in each of the three datasets/splits."
   ]
  },
  {
   "cell_type": "code",
   "execution_count": 34,
   "id": "traditional-czech",
   "metadata": {
    "pycharm": {
     "name": "#%%\n"
    }
   },
   "outputs": [],
   "source": [
    "def count_unique(\n",
    "    train_df: pd.DataFrame, \n",
    "    test_df: pd.DataFrame,\n",
    "    val_df: pd.DataFrame,\n",
    "    graph: nx.DiGraph,\n",
    "    namespace: list = ['pubchem', 'mondo'],\n",
    "):\n",
    "    \"\"\"Function to get node related statistsics for drug-disease edges.\"\"\"\n",
    "    total_nodes = set(graph.nodes())\n",
    "    total_drug_nodes = [node for node in total_nodes if namespace[0] in node]\n",
    "    total_disease_nodes = [node for node in total_nodes if namespace[1] in node]\n",
    "    \n",
    "    df_data = []\n",
    "        \n",
    "    for df_type, df in {'train': train_df, 'test': test_df, 'val': val_df}.items():\n",
    "        # Filter drug-disease edges only\n",
    "        interest_df = df[df['relation'] == 'treats']\n",
    "        \n",
    "        drug_nodes = interest_df['source'].unique().tolist()\n",
    "        disease_nodes = interest_df['target'].unique().tolist()\n",
    "        \n",
    "        df_data.append({\n",
    "            'data set': df_type,\n",
    "            '# unique drugs': len(drug_nodes),\n",
    "            '# unique diseases': len(disease_nodes),\n",
    "            '%age drugs (against all nodes)': round((len(drug_nodes)/len(total_nodes)) * 100, 2),\n",
    "            '%age disease (against all nodes)': round((len(disease_nodes)/len(total_nodes)) * 100, 2),\n",
    "            '%age drugs (against all drugs)': round((len(drug_nodes)/len(total_drug_nodes)) * 100, 2),\n",
    "            '%age disease (against all disease)': round((len(disease_nodes)/len(total_disease_nodes)) * 100, 2)\n",
    "        })\n",
    "        \n",
    "    summary_df = pd.DataFrame(df_data)\n",
    "    summary_df.set_index('data set', inplace=True)\n",
    "    return summary_df"
   ]
  },
  {
   "cell_type": "code",
   "execution_count": 35,
   "id": "planned-lighter",
   "metadata": {
    "pycharm": {
     "name": "#%%\n"
    }
   },
   "outputs": [
    {
     "data": {
      "text/html": [
       "<div>\n",
       "<style scoped>\n",
       "    .dataframe tbody tr th:only-of-type {\n",
       "        vertical-align: middle;\n",
       "    }\n",
       "\n",
       "    .dataframe tbody tr th {\n",
       "        vertical-align: top;\n",
       "    }\n",
       "\n",
       "    .dataframe thead th {\n",
       "        text-align: right;\n",
       "    }\n",
       "</style>\n",
       "<table border=\"1\" class=\"dataframe\">\n",
       "  <thead>\n",
       "    <tr style=\"text-align: right;\">\n",
       "      <th></th>\n",
       "      <th># unique drugs</th>\n",
       "      <th># unique diseases</th>\n",
       "      <th>%age drugs (against all nodes)</th>\n",
       "      <th>%age disease (against all nodes)</th>\n",
       "      <th>%age drugs (against all drugs)</th>\n",
       "      <th>%age disease (against all disease)</th>\n",
       "    </tr>\n",
       "    <tr>\n",
       "      <th>data set</th>\n",
       "      <th></th>\n",
       "      <th></th>\n",
       "      <th></th>\n",
       "      <th></th>\n",
       "      <th></th>\n",
       "      <th></th>\n",
       "    </tr>\n",
       "  </thead>\n",
       "  <tbody>\n",
       "    <tr>\n",
       "      <th>train</th>\n",
       "      <td>584</td>\n",
       "      <td>247</td>\n",
       "      <td>9.78</td>\n",
       "      <td>4.14</td>\n",
       "      <td>95.74</td>\n",
       "      <td>93.56</td>\n",
       "    </tr>\n",
       "    <tr>\n",
       "      <th>test</th>\n",
       "      <td>263</td>\n",
       "      <td>120</td>\n",
       "      <td>4.40</td>\n",
       "      <td>2.01</td>\n",
       "      <td>43.11</td>\n",
       "      <td>45.45</td>\n",
       "    </tr>\n",
       "    <tr>\n",
       "      <th>val</th>\n",
       "      <td>257</td>\n",
       "      <td>126</td>\n",
       "      <td>4.30</td>\n",
       "      <td>2.11</td>\n",
       "      <td>42.13</td>\n",
       "      <td>47.73</td>\n",
       "    </tr>\n",
       "  </tbody>\n",
       "</table>\n",
       "</div>"
      ],
      "text/plain": [
       "          # unique drugs  # unique diseases  %age drugs (against all nodes)  \\\n",
       "data set                                                                      \n",
       "train                584                247                            9.78   \n",
       "test                 263                120                            4.40   \n",
       "val                  257                126                            4.30   \n",
       "\n",
       "          %age disease (against all nodes)  %age drugs (against all drugs)  \\\n",
       "data set                                                                     \n",
       "train                                 4.14                           95.74   \n",
       "test                                  2.01                           43.11   \n",
       "val                                   2.11                           42.13   \n",
       "\n",
       "          %age disease (against all disease)  \n",
       "data set                                      \n",
       "train                                  93.56  \n",
       "test                                   45.45  \n",
       "val                                    47.73  "
      ]
     },
     "execution_count": 35,
     "metadata": {},
     "output_type": "execute_result"
    }
   ],
   "source": [
    "count_summary = count_unique(\n",
    "    train_df=openbiolink_train,\n",
    "    test_df=openbiolink_test,\n",
    "    val_df=openbiolink_val,\n",
    "    graph=openbiolink_graph,\n",
    "    namespace=['PUBCHEM.COMPOUND', 'DOID']\n",
    ")\n",
    "count_summary"
   ]
  },
  {
   "cell_type": "code",
   "execution_count": 36,
   "id": "recent-proxy",
   "metadata": {
    "pycharm": {
     "name": "#%%\n"
    }
   },
   "outputs": [
    {
     "data": {
      "text/html": [
       "<div>\n",
       "<style scoped>\n",
       "    .dataframe tbody tr th:only-of-type {\n",
       "        vertical-align: middle;\n",
       "    }\n",
       "\n",
       "    .dataframe tbody tr th {\n",
       "        vertical-align: top;\n",
       "    }\n",
       "\n",
       "    .dataframe thead th {\n",
       "        text-align: right;\n",
       "    }\n",
       "</style>\n",
       "<table border=\"1\" class=\"dataframe\">\n",
       "  <thead>\n",
       "    <tr style=\"text-align: right;\">\n",
       "      <th></th>\n",
       "      <th># unique drugs</th>\n",
       "      <th># unique diseases</th>\n",
       "      <th>%age drugs (against all nodes)</th>\n",
       "      <th>%age disease (against all nodes)</th>\n",
       "      <th>%age drugs (against all drugs)</th>\n",
       "      <th>%age disease (against all disease)</th>\n",
       "    </tr>\n",
       "    <tr>\n",
       "      <th>data set</th>\n",
       "      <th></th>\n",
       "      <th></th>\n",
       "      <th></th>\n",
       "      <th></th>\n",
       "      <th></th>\n",
       "      <th></th>\n",
       "    </tr>\n",
       "  </thead>\n",
       "  <tbody>\n",
       "    <tr>\n",
       "      <th>train</th>\n",
       "      <td>2217</td>\n",
       "      <td>1717</td>\n",
       "      <td>5.45</td>\n",
       "      <td>4.22</td>\n",
       "      <td>95.48</td>\n",
       "      <td>98.62</td>\n",
       "    </tr>\n",
       "    <tr>\n",
       "      <th>test</th>\n",
       "      <td>1309</td>\n",
       "      <td>1062</td>\n",
       "      <td>3.22</td>\n",
       "      <td>2.61</td>\n",
       "      <td>56.37</td>\n",
       "      <td>61.00</td>\n",
       "    </tr>\n",
       "    <tr>\n",
       "      <th>val</th>\n",
       "      <td>1306</td>\n",
       "      <td>1031</td>\n",
       "      <td>3.21</td>\n",
       "      <td>2.54</td>\n",
       "      <td>56.24</td>\n",
       "      <td>59.22</td>\n",
       "    </tr>\n",
       "  </tbody>\n",
       "</table>\n",
       "</div>"
      ],
      "text/plain": [
       "          # unique drugs  # unique diseases  %age drugs (against all nodes)  \\\n",
       "data set                                                                      \n",
       "train               2217               1717                            5.45   \n",
       "test                1309               1062                            3.22   \n",
       "val                 1306               1031                            3.21   \n",
       "\n",
       "          %age disease (against all nodes)  %age drugs (against all drugs)  \\\n",
       "data set                                                                     \n",
       "train                                 4.22                           95.48   \n",
       "test                                  2.61                           56.37   \n",
       "val                                   2.54                           56.24   \n",
       "\n",
       "          %age disease (against all disease)  \n",
       "data set                                      \n",
       "train                                  98.62  \n",
       "test                                   61.00  \n",
       "val                                    59.22  "
      ]
     },
     "execution_count": 36,
     "metadata": {},
     "output_type": "execute_result"
    }
   ],
   "source": [
    "biokg_count_summary = count_unique(\n",
    "    train_df=biokg_train,\n",
    "    test_df=biokg_test,\n",
    "    val_df=biokg_val,\n",
    "    graph=biokg_graph,\n",
    "    namespace=['drugbank', 'mesh']\n",
    ")\n",
    "\n",
    "biokg_count_summary"
   ]
  },
  {
   "cell_type": "code",
   "execution_count": null,
   "id": "aquatic-administration",
   "metadata": {
    "pycharm": {
     "name": "#%%\n"
    }
   },
   "outputs": [],
   "source": []
  }
 ],
 "metadata": {
  "kernelspec": {
   "display_name": "kgem",
   "language": "python",
   "name": "kgem"
  },
  "language_info": {
   "codemirror_mode": {
    "name": "ipython",
    "version": 3
   },
   "file_extension": ".py",
   "mimetype": "text/x-python",
   "name": "python",
   "nbconvert_exporter": "python",
   "pygments_lexer": "ipython3",
   "version": "3.8.13"
  }
 },
 "nbformat": 4,
 "nbformat_minor": 5
}
