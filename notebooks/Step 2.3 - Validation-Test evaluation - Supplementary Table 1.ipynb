{
 "cells": [
  {
   "cell_type": "markdown",
   "id": "improving-richmond",
   "metadata": {
    "pycharm": {
     "name": "#%% md\n"
    }
   },
   "source": [
    "# <center>Validation/Test precision@100 - Supplementary Table 1</center>\n",
    "\n",
    "This notebook contains the code to:\n",
    "- Compute validation and test precision@100.\n",
    "- Getting the table presented as Supplementary Table 1."
   ]
  },
  {
   "cell_type": "code",
   "execution_count": 1,
   "id": "03316553-b225-49ee-bc81-b1fd2dea2e9a",
   "metadata": {
    "pycharm": {
     "name": "#%%\n"
    }
   },
   "outputs": [],
   "source": [
    "import os\n",
    "import sys\n",
    "import seaborn as sns\n",
    "import pandas as pd\n",
    "\n",
    "PREDICTIONS_PATH = '../data/predictions'"
   ]
  },
  {
   "cell_type": "markdown",
   "id": "798b4583-007b-4666-8632-856bac845618",
   "metadata": {
    "pycharm": {
     "name": "#%% md\n"
    }
   },
   "source": [
    "## Load precision data"
   ]
  },
  {
   "cell_type": "code",
   "execution_count": 2,
   "id": "1a0b3a8a-31b6-4fcb-99a0-5b86adfa4800",
   "metadata": {
    "pycharm": {
     "name": "#%%\n"
    }
   },
   "outputs": [],
   "source": [
    "prec_test = pd.read_csv(os.path.join(PREDICTIONS_PATH, 'precision_test-ensemble-all.csv'), sep='\\t')\n",
    "prec_val = pd.read_csv(os.path.join(PREDICTIONS_PATH, 'precision_val-ensemble-all.csv'), sep='\\t')\n",
    "\n",
    "prec_test['dataset'] = 'test'\n",
    "prec_val['dataset'] = 'val'\n",
    "\n",
    "prec = pd.concat([prec_val, prec_test], ignore_index=True)"
   ]
  },
  {
   "cell_type": "markdown",
   "id": "04ef3c7d-f7e6-4cc9-8f43-0c53997ab0c2",
   "metadata": {
    "pycharm": {
     "name": "#%% md\n"
    }
   },
   "source": [
    "### Filter K=100 "
   ]
  },
  {
   "cell_type": "code",
   "execution_count": 3,
   "id": "c4331751-d777-41df-b81f-259fa67c27b7",
   "metadata": {
    "pycharm": {
     "name": "#%%\n"
    }
   },
   "outputs": [],
   "source": [
    "prec = prec[prec['K'] == 100]\n",
    "prec = prec[['kg', 'dataset', 'model', 'precision']]"
   ]
  },
  {
   "cell_type": "markdown",
   "id": "3033843b-2306-4c10-b9db-dc7b9d98e72a",
   "metadata": {
    "pycharm": {
     "name": "#%% md\n"
    }
   },
   "source": [
    "## Precision Table"
   ]
  },
  {
   "cell_type": "markdown",
   "id": "f1f9d19b-4d99-45ab-97f3-c04baa475dfd",
   "metadata": {
    "pycharm": {
     "name": "#%% md\n"
    }
   },
   "source": [
    "### Auxiliary functions"
   ]
  },
  {
   "cell_type": "code",
   "execution_count": 4,
   "id": "77a40f71-359c-476a-9e22-0a1f4163dfc0",
   "metadata": {
    "pycharm": {
     "name": "#%%\n"
    }
   },
   "outputs": [],
   "source": [
    "kg2title = {\n",
    "    'openbiolink': 'OpenbioLink',\n",
    "    'biokg': 'BioKG',\n",
    "}\n",
    "\n",
    "model2title = {\n",
    "    'rescal': 'RESCAL',\n",
    "    'transe': 'TransE',\n",
    "    'distmult': 'DistMult',\n",
    "    'ermlp': 'ERMLP',\n",
    "    'transh': 'TransH',\n",
    "    'complex': 'ComplEx',\n",
    "    'hole': 'HolE',\n",
    "    'conve': 'ConvE',\n",
    "    'rotate': 'RotatE',\n",
    "    'mure': 'MuRE',   \n",
    "}\n",
    "\n",
    "model_names = [\n",
    "    'RESCAL',\n",
    "    'TransE',\n",
    "    'DistMult',\n",
    "    'ERMLP',\n",
    "    'TransH',\n",
    "    'ComplEx',\n",
    "    'HolE',\n",
    "    'ConvE',\n",
    "    'RotatE',\n",
    "    'MuRE',\n",
    "]"
   ]
  },
  {
   "cell_type": "markdown",
   "id": "e1972fb9-987a-4891-92cf-a2fa740802cd",
   "metadata": {},
   "source": [
    "# Supplementary Table 1"
   ]
  },
  {
   "cell_type": "code",
   "execution_count": 5,
   "id": "12957332-2a54-471b-9ec5-e23b3f6cd289",
   "metadata": {
    "pycharm": {
     "name": "#%%\n"
    }
   },
   "outputs": [
    {
     "data": {
      "text/html": [
       "<div>\n",
       "<style scoped>\n",
       "    .dataframe tbody tr th:only-of-type {\n",
       "        vertical-align: middle;\n",
       "    }\n",
       "\n",
       "    .dataframe tbody tr th {\n",
       "        vertical-align: top;\n",
       "    }\n",
       "\n",
       "    .dataframe thead tr th {\n",
       "        text-align: left;\n",
       "    }\n",
       "\n",
       "    .dataframe thead tr:last-of-type th {\n",
       "        text-align: right;\n",
       "    }\n",
       "</style>\n",
       "<table border=\"1\" class=\"dataframe\">\n",
       "  <thead>\n",
       "    <tr>\n",
       "      <th></th>\n",
       "      <th></th>\n",
       "      <th colspan=\"2\" halign=\"left\">precision</th>\n",
       "    </tr>\n",
       "    <tr>\n",
       "      <th></th>\n",
       "      <th>dataset</th>\n",
       "      <th>test</th>\n",
       "      <th>val</th>\n",
       "    </tr>\n",
       "    <tr>\n",
       "      <th>kg</th>\n",
       "      <th>Model</th>\n",
       "      <th></th>\n",
       "      <th></th>\n",
       "    </tr>\n",
       "  </thead>\n",
       "  <tbody>\n",
       "    <tr>\n",
       "      <th>openbiolink</th>\n",
       "      <th>RESCAL</th>\n",
       "      <td>0.0</td>\n",
       "      <td>0.0</td>\n",
       "    </tr>\n",
       "    <tr>\n",
       "      <th>biokg</th>\n",
       "      <th>RESCAL</th>\n",
       "      <td>3.0</td>\n",
       "      <td>3.0</td>\n",
       "    </tr>\n",
       "    <tr>\n",
       "      <th>openbiolink</th>\n",
       "      <th>TransE</th>\n",
       "      <td>53.0</td>\n",
       "      <td>38.0</td>\n",
       "    </tr>\n",
       "    <tr>\n",
       "      <th rowspan=\"2\" valign=\"top\">biokg</th>\n",
       "      <th>TransE</th>\n",
       "      <td>38.0</td>\n",
       "      <td>26.0</td>\n",
       "    </tr>\n",
       "    <tr>\n",
       "      <th>DistMult</th>\n",
       "      <td>1.0</td>\n",
       "      <td>1.0</td>\n",
       "    </tr>\n",
       "    <tr>\n",
       "      <th>openbiolink</th>\n",
       "      <th>DistMult</th>\n",
       "      <td>5.0</td>\n",
       "      <td>4.0</td>\n",
       "    </tr>\n",
       "    <tr>\n",
       "      <th>biokg</th>\n",
       "      <th>ERMLP</th>\n",
       "      <td>2.0</td>\n",
       "      <td>1.0</td>\n",
       "    </tr>\n",
       "    <tr>\n",
       "      <th>openbiolink</th>\n",
       "      <th>ERMLP</th>\n",
       "      <td>24.0</td>\n",
       "      <td>14.0</td>\n",
       "    </tr>\n",
       "    <tr>\n",
       "      <th>biokg</th>\n",
       "      <th>TransH</th>\n",
       "      <td>23.0</td>\n",
       "      <td>20.0</td>\n",
       "    </tr>\n",
       "    <tr>\n",
       "      <th rowspan=\"2\" valign=\"top\">openbiolink</th>\n",
       "      <th>TransH</th>\n",
       "      <td>25.0</td>\n",
       "      <td>23.0</td>\n",
       "    </tr>\n",
       "    <tr>\n",
       "      <th>ComplEx</th>\n",
       "      <td>20.0</td>\n",
       "      <td>16.0</td>\n",
       "    </tr>\n",
       "    <tr>\n",
       "      <th rowspan=\"2\" valign=\"top\">biokg</th>\n",
       "      <th>ComplEx</th>\n",
       "      <td>0.0</td>\n",
       "      <td>0.0</td>\n",
       "    </tr>\n",
       "    <tr>\n",
       "      <th>HolE</th>\n",
       "      <td>26.0</td>\n",
       "      <td>18.0</td>\n",
       "    </tr>\n",
       "    <tr>\n",
       "      <th rowspan=\"2\" valign=\"top\">openbiolink</th>\n",
       "      <th>HolE</th>\n",
       "      <td>46.0</td>\n",
       "      <td>31.0</td>\n",
       "    </tr>\n",
       "    <tr>\n",
       "      <th>ConvE</th>\n",
       "      <td>53.0</td>\n",
       "      <td>40.0</td>\n",
       "    </tr>\n",
       "    <tr>\n",
       "      <th>biokg</th>\n",
       "      <th>ConvE</th>\n",
       "      <td>47.0</td>\n",
       "      <td>36.0</td>\n",
       "    </tr>\n",
       "    <tr>\n",
       "      <th>openbiolink</th>\n",
       "      <th>RotatE</th>\n",
       "      <td>36.0</td>\n",
       "      <td>27.0</td>\n",
       "    </tr>\n",
       "    <tr>\n",
       "      <th rowspan=\"2\" valign=\"top\">biokg</th>\n",
       "      <th>RotatE</th>\n",
       "      <td>55.0</td>\n",
       "      <td>35.0</td>\n",
       "    </tr>\n",
       "    <tr>\n",
       "      <th>MuRE</th>\n",
       "      <td>13.0</td>\n",
       "      <td>12.0</td>\n",
       "    </tr>\n",
       "    <tr>\n",
       "      <th>openbiolink</th>\n",
       "      <th>MuRE</th>\n",
       "      <td>58.0</td>\n",
       "      <td>41.0</td>\n",
       "    </tr>\n",
       "  </tbody>\n",
       "</table>\n",
       "</div>"
      ],
      "text/plain": [
       "                     precision      \n",
       "dataset                   test   val\n",
       "kg          Model                   \n",
       "openbiolink RESCAL         0.0   0.0\n",
       "biokg       RESCAL         3.0   3.0\n",
       "openbiolink TransE        53.0  38.0\n",
       "biokg       TransE        38.0  26.0\n",
       "            DistMult       1.0   1.0\n",
       "openbiolink DistMult       5.0   4.0\n",
       "biokg       ERMLP          2.0   1.0\n",
       "openbiolink ERMLP         24.0  14.0\n",
       "biokg       TransH        23.0  20.0\n",
       "openbiolink TransH        25.0  23.0\n",
       "            ComplEx       20.0  16.0\n",
       "biokg       ComplEx        0.0   0.0\n",
       "            HolE          26.0  18.0\n",
       "openbiolink HolE          46.0  31.0\n",
       "            ConvE         53.0  40.0\n",
       "biokg       ConvE         47.0  36.0\n",
       "openbiolink RotatE        36.0  27.0\n",
       "biokg       RotatE        55.0  35.0\n",
       "            MuRE          13.0  12.0\n",
       "openbiolink MuRE          58.0  41.0"
      ]
     },
     "execution_count": 5,
     "metadata": {},
     "output_type": "execute_result"
    }
   ],
   "source": [
    "models_order = {m:i for i,m in enumerate(model_names)}\n",
    "prec['Model'] = prec['model'].apply(lambda x: model2title[x])\n",
    "prec = prec.iloc[prec['Model'].map(models_order).argsort()]\n",
    "prec.drop('model', axis=1).set_index(['kg', 'Model', 'dataset']).unstack().sort_values('Model', key=lambda x: x.map(models_order))"
   ]
  }
 ],
 "metadata": {
  "kernelspec": {
   "display_name": "kg-research",
   "language": "python",
   "name": "kg-research"
  },
  "language_info": {
   "codemirror_mode": {
    "name": "ipython",
    "version": 3
   },
   "file_extension": ".py",
   "mimetype": "text/x-python",
   "name": "python",
   "nbconvert_exporter": "python",
   "pygments_lexer": "ipython3",
   "version": "3.9.12"
  }
 },
 "nbformat": 4,
 "nbformat_minor": 5
}
