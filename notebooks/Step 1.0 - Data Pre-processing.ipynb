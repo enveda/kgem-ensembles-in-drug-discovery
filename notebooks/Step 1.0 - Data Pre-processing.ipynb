{
 "cells": [
  {
   "cell_type": "markdown",
   "id": "improving-richmond",
   "metadata": {},
   "source": [
    "# <center>Data Pre-processing </center>\n",
    "\n",
    "This notebook contains the code to filter, pre-process, and normalize the raw benchmark data sets for training knwoledge graph embedding models (KGEMs)."
   ]
  },
  {
   "cell_type": "markdown",
   "id": "periodic-covering",
   "metadata": {},
   "source": [
    "## System configurations"
   ]
  },
  {
   "cell_type": "code",
   "execution_count": 1,
   "id": "preliminary-adventure",
   "metadata": {},
   "outputs": [],
   "source": [
    "import getpass\n",
    "import sys\n",
    "import time\n",
    "sys.path.insert(0, '..')"
   ]
  },
  {
   "cell_type": "code",
   "execution_count": 2,
   "id": "aging-jimmy",
   "metadata": {},
   "outputs": [
    {
     "data": {
      "text/plain": [
       "'yojana'"
      ]
     },
     "execution_count": 2,
     "metadata": {},
     "output_type": "execute_result"
    }
   ],
   "source": [
    "getpass.getuser()"
   ]
  },
  {
   "cell_type": "code",
   "execution_count": 3,
   "id": "spiritual-africa",
   "metadata": {},
   "outputs": [
    {
     "data": {
      "text/plain": [
       "'3.8.13 (default, Mar 28 2022, 06:16:26) \\n[Clang 12.0.0 ]'"
      ]
     },
     "execution_count": 3,
     "metadata": {},
     "output_type": "execute_result"
    }
   ],
   "source": [
    "sys.version"
   ]
  },
  {
   "cell_type": "code",
   "execution_count": 4,
   "id": "seasonal-evanescence",
   "metadata": {},
   "outputs": [
    {
     "data": {
      "text/plain": [
       "'Tue Jun 14 14:53:44 2022'"
      ]
     },
     "execution_count": 4,
     "metadata": {},
     "output_type": "execute_result"
    }
   ],
   "source": [
    "time.asctime()"
   ]
  },
  {
   "cell_type": "markdown",
   "id": "taken-drawing",
   "metadata": {},
   "source": [
    "## Import modules"
   ]
  },
  {
   "cell_type": "code",
   "execution_count": 5,
   "id": "quality-brazilian",
   "metadata": {},
   "outputs": [],
   "source": [
    "import os\n",
    "import logging\n",
    "import pandas as pd\n",
    "from tqdm import tqdm\n",
    "\n",
    "# Graph creation\n",
    "from src.utils import create_graph_from_df\n",
    "import networkx as nx\n",
    "\n",
    "# Plotting libraries\n",
    "import matplotlib.pyplot as plt\n",
    "import seaborn as sns \n",
    "\n",
    "# Splitting libraries\n",
    "import numpy as np"
   ]
  },
  {
   "cell_type": "code",
   "execution_count": 6,
   "id": "strange-dress",
   "metadata": {},
   "outputs": [],
   "source": [
    "logger = logging.getLogger('__name__')"
   ]
  },
  {
   "cell_type": "code",
   "execution_count": 7,
   "id": "broad-benjamin",
   "metadata": {},
   "outputs": [],
   "source": [
    "# Make directories to store the data\n",
    "os.makedirs('../data/plots', exist_ok=True)\n",
    "os.makedirs('../data/kg', exist_ok=True)"
   ]
  },
  {
   "cell_type": "markdown",
   "id": "congressional-personal",
   "metadata": {},
   "source": [
    "### Loading the BioKG and filtering data"
   ]
  },
  {
   "cell_type": "code",
   "execution_count": 8,
   "id": "alleged-noise",
   "metadata": {},
   "outputs": [],
   "source": [
    "biokg_df = pd.read_csv('../data/networks/biokg.links.tsv', sep='\\t', names=['source', 'relation', 'target'])\n",
    "biokg_df = biokg_df[biokg_df['relation'].isin([\n",
    "    'PROTEIN_DISEASE_ASSOCIATION',\n",
    "    'DRUG_DISEASE_ASSOCIATION',\n",
    "    'PPI',  # protein-protein\n",
    "    'DPI',  # drug-protein\n",
    "])]\n",
    "\n",
    "# Rearrange columns \n",
    "biokg_df = biokg_df[['source', 'target', 'relation']]"
   ]
  },
  {
   "cell_type": "code",
   "execution_count": 9,
   "id": "stretch-spain",
   "metadata": {},
   "outputs": [
    {
     "data": {
      "text/html": [
       "<div>\n",
       "<style scoped>\n",
       "    .dataframe tbody tr th:only-of-type {\n",
       "        vertical-align: middle;\n",
       "    }\n",
       "\n",
       "    .dataframe tbody tr th {\n",
       "        vertical-align: top;\n",
       "    }\n",
       "\n",
       "    .dataframe thead th {\n",
       "        text-align: right;\n",
       "    }\n",
       "</style>\n",
       "<table border=\"1\" class=\"dataframe\">\n",
       "  <thead>\n",
       "    <tr style=\"text-align: right;\">\n",
       "      <th></th>\n",
       "      <th>source</th>\n",
       "      <th>target</th>\n",
       "      <th>relation</th>\n",
       "    </tr>\n",
       "  </thead>\n",
       "  <tbody>\n",
       "    <tr>\n",
       "      <th>28046</th>\n",
       "      <td>DB00907</td>\n",
       "      <td>D006261</td>\n",
       "      <td>treats</td>\n",
       "    </tr>\n",
       "    <tr>\n",
       "      <th>28047</th>\n",
       "      <td>DB01050</td>\n",
       "      <td>D041781</td>\n",
       "      <td>treats</td>\n",
       "    </tr>\n",
       "    <tr>\n",
       "      <th>28048</th>\n",
       "      <td>DB12117</td>\n",
       "      <td>D000303</td>\n",
       "      <td>treats</td>\n",
       "    </tr>\n",
       "    <tr>\n",
       "      <th>28049</th>\n",
       "      <td>DB00697</td>\n",
       "      <td>D008107</td>\n",
       "      <td>treats</td>\n",
       "    </tr>\n",
       "    <tr>\n",
       "      <th>28050</th>\n",
       "      <td>DB00916</td>\n",
       "      <td>D014786</td>\n",
       "      <td>treats</td>\n",
       "    </tr>\n",
       "  </tbody>\n",
       "</table>\n",
       "</div>"
      ],
      "text/plain": [
       "        source   target relation\n",
       "28046  DB00907  D006261   treats\n",
       "28047  DB01050  D041781   treats\n",
       "28048  DB12117  D000303   treats\n",
       "28049  DB00697  D008107   treats\n",
       "28050  DB00916  D014786   treats"
      ]
     },
     "execution_count": 9,
     "metadata": {},
     "output_type": "execute_result"
    }
   ],
   "source": [
    "# Replace relations to custom ones\n",
    "biokg_df['relation'].replace(to_replace='PROTEIN_DISEASE_ASSOCIATION', value='associates', inplace=True)\n",
    "biokg_df['relation'].replace(to_replace='DPI', value='associates', inplace=True)\n",
    "biokg_df['relation'].replace(to_replace='PPI', value='associates', inplace=True)\n",
    "biokg_df['relation'].replace(to_replace='DRUG_DISEASE_ASSOCIATION', value='treats', inplace=True)\n",
    "biokg_df.head()"
   ]
  },
  {
   "cell_type": "code",
   "execution_count": 10,
   "id": "excess-tomato",
   "metadata": {},
   "outputs": [
    {
     "name": "stderr",
     "output_type": "stream",
     "text": [
      "100%|██████████| 317993/317993 [01:10<00:00, 4491.05it/s]\n"
     ]
    },
    {
     "data": {
      "text/html": [
       "<div>\n",
       "<style scoped>\n",
       "    .dataframe tbody tr th:only-of-type {\n",
       "        vertical-align: middle;\n",
       "    }\n",
       "\n",
       "    .dataframe tbody tr th {\n",
       "        vertical-align: top;\n",
       "    }\n",
       "\n",
       "    .dataframe thead th {\n",
       "        text-align: right;\n",
       "    }\n",
       "</style>\n",
       "<table border=\"1\" class=\"dataframe\">\n",
       "  <thead>\n",
       "    <tr style=\"text-align: right;\">\n",
       "      <th></th>\n",
       "      <th>source</th>\n",
       "      <th>target</th>\n",
       "      <th>relation</th>\n",
       "    </tr>\n",
       "  </thead>\n",
       "  <tbody>\n",
       "    <tr>\n",
       "      <th>28046</th>\n",
       "      <td>drugbank:DB00907</td>\n",
       "      <td>mesh:D006261</td>\n",
       "      <td>treats</td>\n",
       "    </tr>\n",
       "    <tr>\n",
       "      <th>28047</th>\n",
       "      <td>drugbank:DB01050</td>\n",
       "      <td>mesh:D041781</td>\n",
       "      <td>treats</td>\n",
       "    </tr>\n",
       "    <tr>\n",
       "      <th>28048</th>\n",
       "      <td>drugbank:DB12117</td>\n",
       "      <td>mesh:D000303</td>\n",
       "      <td>treats</td>\n",
       "    </tr>\n",
       "    <tr>\n",
       "      <th>28049</th>\n",
       "      <td>drugbank:DB00697</td>\n",
       "      <td>mesh:D008107</td>\n",
       "      <td>treats</td>\n",
       "    </tr>\n",
       "    <tr>\n",
       "      <th>28050</th>\n",
       "      <td>drugbank:DB00916</td>\n",
       "      <td>mesh:D014786</td>\n",
       "      <td>treats</td>\n",
       "    </tr>\n",
       "  </tbody>\n",
       "</table>\n",
       "</div>"
      ],
      "text/plain": [
       "                 source        target relation\n",
       "28046  drugbank:DB00907  mesh:D006261   treats\n",
       "28047  drugbank:DB01050  mesh:D041781   treats\n",
       "28048  drugbank:DB12117  mesh:D000303   treats\n",
       "28049  drugbank:DB00697  mesh:D008107   treats\n",
       "28050  drugbank:DB00916  mesh:D014786   treats"
      ]
     },
     "execution_count": 10,
     "metadata": {},
     "output_type": "execute_result"
    }
   ],
   "source": [
    "# Add namespace prefix in front of ids \n",
    "for idx, row in tqdm(biokg_df.iterrows(), total=biokg_df.shape[0]):\n",
    "    (\n",
    "        source,\n",
    "        target,\n",
    "        relation\n",
    "    ) = row\n",
    "    \n",
    "    if source.startswith(\"DB\"):\n",
    "        biokg_df.loc[idx, 'source'] = f'drugbank:{source}'\n",
    "    elif source.startswith(\"D\"):\n",
    "        biokg_df.loc[idx, 'source'] = f'mesh:{source}'\n",
    "    else:\n",
    "        biokg_df.loc[idx, 'source'] = f'uniprot:{source}'\n",
    "        \n",
    "    if target.startswith(\"DB\"):\n",
    "        biokg_df.loc[idx, 'target'] = f'drugbank:{target}'\n",
    "    elif target.startswith(\"D\"):\n",
    "        biokg_df.loc[idx, 'target'] = f'mesh:{target}'\n",
    "    else:\n",
    "        biokg_df.loc[idx, 'target'] = f'uniprot:{target}'\n",
    "\n",
    "biokg_df.head()"
   ]
  },
  {
   "cell_type": "code",
   "execution_count": 11,
   "id": "limiting-beaver",
   "metadata": {},
   "outputs": [
    {
     "data": {
      "text/plain": [
       "associates    251126\n",
       "treats         66867\n",
       "Name: relation, dtype: int64"
      ]
     },
     "execution_count": 11,
     "metadata": {},
     "output_type": "execute_result"
    }
   ],
   "source": [
    "biokg_df['relation'].value_counts()"
   ]
  },
  {
   "cell_type": "markdown",
   "id": "spread-fault",
   "metadata": {},
   "source": [
    "### Filtering not connected chemicals not connected to genes"
   ]
  },
  {
   "cell_type": "code",
   "execution_count": 12,
   "id": "competent-davis",
   "metadata": {},
   "outputs": [
    {
     "data": {
      "text/plain": [
       "(44684, 27151)"
      ]
     },
     "execution_count": 12,
     "metadata": {},
     "output_type": "execute_result"
    }
   ],
   "source": [
    "filtered_data = biokg_df[biokg_df['relation'] == 'associates']\n",
    "known_sources = set(filtered_data['source'].tolist())\n",
    "known_target = set(filtered_data['target'].tolist())\n",
    "len(known_sources), len(known_target)"
   ]
  },
  {
   "cell_type": "code",
   "execution_count": 13,
   "id": "homeless-dancing",
   "metadata": {},
   "outputs": [
    {
     "data": {
      "text/plain": [
       "(3314, 3074)"
      ]
     },
     "execution_count": 13,
     "metadata": {},
     "output_type": "execute_result"
    }
   ],
   "source": [
    "drug_disease_data = biokg_df[biokg_df['relation'] == 'treats']\n",
    "_drugs = set(drug_disease_data['source'].tolist())\n",
    "_diseases = set(drug_disease_data['target'].tolist())\n",
    "len(_drugs), len(_diseases)"
   ]
  },
  {
   "cell_type": "code",
   "execution_count": 14,
   "id": "contrary-florence",
   "metadata": {},
   "outputs": [
    {
     "data": {
      "text/plain": [
       "973"
      ]
     },
     "execution_count": 14,
     "metadata": {},
     "output_type": "execute_result"
    }
   ],
   "source": [
    "## Are there novel drugs with \"treats\" relation?\n",
    "novel_drugs = _drugs - known_sources\n",
    "len(novel_drugs)"
   ]
  },
  {
   "cell_type": "code",
   "execution_count": 15,
   "id": "liked-crown",
   "metadata": {},
   "outputs": [
    {
     "data": {
      "text/plain": [
       "1275"
      ]
     },
     "execution_count": 15,
     "metadata": {},
     "output_type": "execute_result"
    }
   ],
   "source": [
    "novel_disease = _diseases - known_target\n",
    "len(novel_disease)"
   ]
  },
  {
   "cell_type": "markdown",
   "id": "invalid-values",
   "metadata": {},
   "source": [
    "Thus, there are certain drug-disease pairs that have just one direct edge connecting them, unlike the other where there is a path from chemical-gene-disease. In the next steps, we will remove such pairs by their idex position in the mail dataframe."
   ]
  },
  {
   "cell_type": "code",
   "execution_count": 16,
   "id": "legitimate-plumbing",
   "metadata": {},
   "outputs": [
    {
     "name": "stderr",
     "output_type": "stream",
     "text": [
      "100%|██████████| 66867/66867 [00:04<00:00, 16490.31it/s]\n"
     ]
    },
    {
     "data": {
      "text/plain": [
       "14807"
      ]
     },
     "execution_count": 16,
     "metadata": {},
     "output_type": "execute_result"
    }
   ],
   "source": [
    "idx_to_remove = []\n",
    "\n",
    "for idx, row in tqdm(drug_disease_data.iterrows(), total=drug_disease_data.shape[0]):\n",
    "    (\n",
    "        source,\n",
    "        target,\n",
    "        rel\n",
    "    ) = row\n",
    "    \n",
    "    if source in novel_drugs or target in novel_disease:\n",
    "        idx_to_remove.append(idx)\n",
    "        \n",
    "len(idx_to_remove)"
   ]
  },
  {
   "cell_type": "code",
   "execution_count": 17,
   "id": "union-catering",
   "metadata": {},
   "outputs": [
    {
     "name": "stdout",
     "output_type": "stream",
     "text": [
      "(317993, 3)\n"
     ]
    },
    {
     "data": {
      "text/plain": [
       "(303186, 3)"
      ]
     },
     "execution_count": 17,
     "metadata": {},
     "output_type": "execute_result"
    }
   ],
   "source": [
    "print(biokg_df.shape)\n",
    "biokg_df.drop(idx_to_remove, inplace=True)\n",
    "biokg_df.shape"
   ]
  },
  {
   "cell_type": "code",
   "execution_count": 18,
   "id": "answering-andrews",
   "metadata": {},
   "outputs": [
    {
     "data": {
      "text/plain": [
       "associates    251126\n",
       "treats         52060\n",
       "Name: relation, dtype: int64"
      ]
     },
     "execution_count": 18,
     "metadata": {},
     "output_type": "execute_result"
    }
   ],
   "source": [
    "biokg_df['relation'].value_counts()"
   ]
  },
  {
   "cell_type": "code",
   "execution_count": 19,
   "id": "julian-monitor",
   "metadata": {},
   "outputs": [],
   "source": [
    "biokg_df.to_csv('../data/networks/biokg_processed.tsv', sep='\\t', index=False)"
   ]
  }
 ],
 "metadata": {
  "kernelspec": {
   "display_name": "Python 3 (ipykernel)",
   "language": "python",
   "name": "python3"
  },
  "language_info": {
   "codemirror_mode": {
    "name": "ipython",
    "version": 3
   },
   "file_extension": ".py",
   "mimetype": "text/x-python",
   "name": "python",
   "nbconvert_exporter": "python",
   "pygments_lexer": "ipython3",
   "version": "3.8.13"
  }
 },
 "nbformat": 4,
 "nbformat_minor": 5
}
